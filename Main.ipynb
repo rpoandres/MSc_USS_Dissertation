{
 "cells": [
  {
   "cell_type": "markdown",
   "id": "2901c476-3501-46c3-8f7b-1a1ebd31b1fa",
   "metadata": {
    "tags": []
   },
   "source": [
    "<div style=\"float:left\">\n",
    "    <h1 style=\"width:600px\">Accessibility impact of transport infrastructure: Spatial assessment of Bogota's future metro system</h1>\n",
    "    <h2 style=\"width:600px\">Author: Andres Restrepo</h2>\n",
    "    <h3 style=\"width:600px\">MSc Urban Spatial Science</h3>\n",
    "    <h3 style=\"width:600px\">University College London</h3>\n",
    "\n",
    "</div>\n",
    "<div style=\"float:right\"><img width=\"100\" src=\"https://github.com/jreades/i2p/raw/master/img/casa_logo.jpg\" /></div>"
   ]
  },
  {
   "cell_type": "markdown",
   "id": "be0e8637-bb65-4995-8ebb-1f457fcba85c",
   "metadata": {
    "tags": []
   },
   "source": [
    "## System requirements"
   ]
  },
  {
   "cell_type": "markdown",
   "id": "0335b7c9-976b-4312-8a53-152310558438",
   "metadata": {},
   "source": [
    "### Installing r5py"
   ]
  },
  {
   "cell_type": "code",
   "execution_count": 1,
   "id": "42154a29-6e22-43d9-afc0-690a48f0c1d2",
   "metadata": {
    "scrolled": true
   },
   "outputs": [
    {
     "name": "stdout",
     "output_type": "stream",
     "text": [
      "Requirement already satisfied: r5py in c:\\users\\lenovo\\anaconda3\\envs\\r5py-env\\lib\\site-packages (0.0.4)\n",
      "Requirement already satisfied: ConfigArgParse in c:\\users\\lenovo\\anaconda3\\envs\\r5py-env\\lib\\site-packages (from r5py) (1.5.3)\n",
      "Requirement already satisfied: fiona in c:\\users\\lenovo\\anaconda3\\envs\\r5py-env\\lib\\site-packages (from r5py) (1.9.4)\n",
      "Requirement already satisfied: geopandas in c:\\users\\lenovo\\anaconda3\\envs\\r5py-env\\lib\\site-packages (from r5py) (0.13.0)\n",
      "Requirement already satisfied: joblib in c:\\users\\lenovo\\anaconda3\\envs\\r5py-env\\lib\\site-packages (from r5py) (1.2.0)\n",
      "Requirement already satisfied: jpype1 in c:\\users\\lenovo\\anaconda3\\envs\\r5py-env\\lib\\site-packages (from r5py) (1.4.1)\n",
      "Requirement already satisfied: numpy in c:\\users\\lenovo\\anaconda3\\envs\\r5py-env\\lib\\site-packages (from r5py) (1.24.3)\n",
      "Requirement already satisfied: pandas in c:\\users\\lenovo\\anaconda3\\envs\\r5py-env\\lib\\site-packages (from r5py) (2.0.1)\n",
      "Requirement already satisfied: psutil in c:\\users\\lenovo\\anaconda3\\envs\\r5py-env\\lib\\site-packages (from r5py) (5.9.5)\n",
      "Requirement already satisfied: requests in c:\\users\\lenovo\\anaconda3\\envs\\r5py-env\\lib\\site-packages (from r5py) (2.31.0)\n",
      "Requirement already satisfied: attrs>=19.2.0 in c:\\users\\lenovo\\anaconda3\\envs\\r5py-env\\lib\\site-packages (from fiona->r5py) (23.1.0)\n",
      "Requirement already satisfied: certifi in c:\\users\\lenovo\\anaconda3\\envs\\r5py-env\\lib\\site-packages (from fiona->r5py) (2023.5.7)\n",
      "Requirement already satisfied: click~=8.0 in c:\\users\\lenovo\\anaconda3\\envs\\r5py-env\\lib\\site-packages (from fiona->r5py) (8.1.3)\n",
      "Requirement already satisfied: click-plugins>=1.0 in c:\\users\\lenovo\\anaconda3\\envs\\r5py-env\\lib\\site-packages (from fiona->r5py) (1.1.1)\n",
      "Requirement already satisfied: cligj>=0.5 in c:\\users\\lenovo\\anaconda3\\envs\\r5py-env\\lib\\site-packages (from fiona->r5py) (0.7.2)\n",
      "Requirement already satisfied: six in c:\\users\\lenovo\\anaconda3\\envs\\r5py-env\\lib\\site-packages (from fiona->r5py) (1.16.0)\n",
      "Requirement already satisfied: packaging in c:\\users\\lenovo\\anaconda3\\envs\\r5py-env\\lib\\site-packages (from geopandas->r5py) (23.1)\n",
      "Requirement already satisfied: pyproj>=3.0.1 in c:\\users\\lenovo\\anaconda3\\envs\\r5py-env\\lib\\site-packages (from geopandas->r5py) (3.5.0)\n",
      "Requirement already satisfied: shapely>=1.7.1 in c:\\users\\lenovo\\anaconda3\\envs\\r5py-env\\lib\\site-packages (from geopandas->r5py) (2.0.1)\n",
      "Requirement already satisfied: python-dateutil>=2.8.2 in c:\\users\\lenovo\\anaconda3\\envs\\r5py-env\\lib\\site-packages (from pandas->r5py) (2.8.2)\n",
      "Requirement already satisfied: pytz>=2020.1 in c:\\users\\lenovo\\anaconda3\\envs\\r5py-env\\lib\\site-packages (from pandas->r5py) (2023.3)\n",
      "Requirement already satisfied: tzdata>=2022.1 in c:\\users\\lenovo\\anaconda3\\envs\\r5py-env\\lib\\site-packages (from pandas->r5py) (2023.3)\n",
      "Requirement already satisfied: charset-normalizer<4,>=2 in c:\\users\\lenovo\\anaconda3\\envs\\r5py-env\\lib\\site-packages (from requests->r5py) (3.1.0)\n",
      "Requirement already satisfied: idna<4,>=2.5 in c:\\users\\lenovo\\anaconda3\\envs\\r5py-env\\lib\\site-packages (from requests->r5py) (3.4)\n",
      "Requirement already satisfied: urllib3<3,>=1.21.1 in c:\\users\\lenovo\\anaconda3\\envs\\r5py-env\\lib\\site-packages (from requests->r5py) (2.0.2)\n",
      "Requirement already satisfied: colorama in c:\\users\\lenovo\\anaconda3\\envs\\r5py-env\\lib\\site-packages (from click~=8.0->fiona->r5py) (0.4.6)\n",
      "Note: you may need to restart the kernel to use updated packages.\n"
     ]
    }
   ],
   "source": [
    "pip install r5py"
   ]
  },
  {
   "cell_type": "code",
   "execution_count": 1,
   "id": "83151366-92c4-470d-86a7-f44fce28bae2",
   "metadata": {
    "scrolled": true
   },
   "outputs": [
    {
     "name": "stdout",
     "output_type": "stream",
     "text": [
      "Collecting install-jdk\n",
      "  Downloading install_jdk-1.0.4-py3-none-any.whl (15 kB)\n",
      "Installing collected packages: install-jdk\n",
      "Successfully installed install-jdk-1.0.4\n",
      "Note: you may need to restart the kernel to use updated packages.\n"
     ]
    }
   ],
   "source": [
    "#pip install install-jdk"
   ]
  },
  {
   "cell_type": "code",
   "execution_count": 1,
   "id": "b0dbe96a-e1fb-4e4b-91c9-82f76a9ce86c",
   "metadata": {},
   "outputs": [],
   "source": [
    "#import jdk"
   ]
  },
  {
   "cell_type": "code",
   "execution_count": 5,
   "id": "6319672a-2ab3-4c58-b921-4d139c61fc09",
   "metadata": {},
   "outputs": [],
   "source": [
    "import sys\n",
    "sys.argv.append([\"--max-memory\", \"12G\"])\n",
    "import r5py"
   ]
  },
  {
   "cell_type": "code",
   "execution_count": null,
   "id": "075c35f9-4171-48c6-9f7b-feef610b2f50",
   "metadata": {},
   "outputs": [],
   "source": []
  }
 ],
 "metadata": {
  "kernelspec": {
   "display_name": "Python 3 (ipykernel)",
   "language": "python",
   "name": "python3"
  },
  "language_info": {
   "codemirror_mode": {
    "name": "ipython",
    "version": 3
   },
   "file_extension": ".py",
   "mimetype": "text/x-python",
   "name": "python",
   "nbconvert_exporter": "python",
   "pygments_lexer": "ipython3",
   "version": "3.11.3"
  }
 },
 "nbformat": 4,
 "nbformat_minor": 5
}
