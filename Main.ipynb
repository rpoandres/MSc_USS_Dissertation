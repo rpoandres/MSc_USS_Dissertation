{
 "cells": [
  {
   "cell_type": "markdown",
   "id": "2901c476-3501-46c3-8f7b-1a1ebd31b1fa",
   "metadata": {},
   "source": [
    "<div style=\"float:left\">\n",
    "    <h1 style=\"width:600px\">Dissertation</h1>\n",
    "    <h3 style=\"width:600px\">CASA0002: Urban Simulation</h3>\n",
    "    <h3 style=\"width:600px\">Author: Andres Restrepo</h3>\n",
    "\n",
    "</div>\n",
    "<div style=\"float:right\"><img width=\"100\" src=\"https://github.com/jreades/i2p/raw/master/img/casa_logo.jpg\" /></div>"
   ]
  },
  {
   "cell_type": "code",
   "execution_count": null,
   "id": "1d77d4f0-1c97-47b2-8c2a-0f93f9bf306c",
   "metadata": {},
   "outputs": [],
   "source": []
  }
 ],
 "metadata": {
  "kernelspec": {
   "display_name": "Python 3 (ipykernel)",
   "language": "python",
   "name": "python3"
  },
  "language_info": {
   "codemirror_mode": {
    "name": "ipython",
    "version": 3
   },
   "file_extension": ".py",
   "mimetype": "text/x-python",
   "name": "python",
   "nbconvert_exporter": "python",
   "pygments_lexer": "ipython3",
   "version": "3.10.5"
  }
 },
 "nbformat": 4,
 "nbformat_minor": 5
}
